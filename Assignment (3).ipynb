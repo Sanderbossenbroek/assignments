{
 "cells": [
  {
   "cell_type": "markdown",
   "metadata": {},
   "source": [
    "# Panama Papers\n",
    "\n",
    "<b><i>An investigation of countries involved in the Panama Papers</i></b>\n",
    "\n",
    "Assignment Applied Economic Analysis\n",
    "\n",
    "Name: Sander Bossenbroek\n",
    "\n",
    "ANR: 732983\n",
    "\n",
    "January 31th, 2018"
   ]
  },
  {
   "cell_type": "markdown",
   "metadata": {},
   "source": [
    "# Research question"
   ]
  },
  {
   "cell_type": "markdown",
   "metadata": {},
   "source": [
    "The research question of the small study is: \n",
    "\n",
    "<b><i>Which countries are  involved in the leaks and what is the current status of the shawn companies ?</i></b>\n",
    "\n"
   ]
  },
  {
   "cell_type": "markdown",
   "metadata": {
    "collapsed": true
   },
   "source": [
    "# Motivation"
   ]
  },
  {
   "cell_type": "markdown",
   "metadata": {},
   "source": [
    "One of the biggest debates in the current internationally and globally organized world has to do with taxation. More specifically, it is all about tax evasion. The published papers about tax evasion contributed a lot to this discussion. For example the <a href=\"https://panamapapers.icij.org/\">Panama Papers</a> (2016) and the <a href=\"http://www.bbc.com/news/world-41880153\">Paradise Papers</a> (2017). \n",
    "\n",
    "The Paradise Papers is a cache of some 13GB of data that contains 13.4 million confidential records of offshore investment by 120,000 people and companies in 19 tax jurisdictions. These numbers shows that the leak is very large and probably has a large impact on taxes. \n",
    "\n",
    "It was published by the International Consortium of Investigative Journalists (ICIJ) on November 5, 2017. This organization made a nice informative video about the leak. This video can be viewed <a href=\"https://www.icij.org/investigations/paradise-papers/watch-the-paradise-papers-secrets-of-the-global-elite/\">here</a>. \n",
    "\n",
    "A lot of famous and policitally important people and involved in the Papers. For example Juan Manual Santos (the President of Columbia), Wilbur Ross (U.S. Secretary of Commerce) and Queen Elizabeth II. Besides, also large companies like Facebook, Nike and Yahoo are mentioned in the leak.\n",
    "\n",
    "However, it is not only interesting to see which persons and which firms are mentioned in the papers, it is also very interesting to check which countries in mainly involved in the published papers and take as a result the most advantage of the existence of so-called tax havens. Besides, it might be interesting to see when the specific countries set up a lot of companies in the tax havens or at which time the number of shawm companies related to specific countries declined. "
   ]
  },
  {
   "cell_type": "markdown",
   "metadata": {
    "collapsed": true
   },
   "source": [
    "# Method\n",
    "\n"
   ]
  },
  {
   "cell_type": "markdown",
   "metadata": {
    "collapsed": true
   },
   "source": [
    "For this small study I used a dataset containing data revealed in the Paradise Papers, the Panama Papers and the Bahamas Leaks. This dataset contains a lot of information regarding for example entities involved, countries involved, dates of incorporation and inactivation of the entities. The data has been uploaded as released by ICIJ on Nov 21, 2017. So, currently, the information is up-to-date. "
   ]
  },
  {
   "cell_type": "markdown",
   "metadata": {},
   "source": [
    "# Assumptions"
   ]
  },
  {
   "cell_type": "markdown",
   "metadata": {
    "collapsed": true
   },
   "source": [
    "The number of countries involved in the papers is really large. However, there are approximately 30 countries being mentioned very often. These countries covers the biggest part of all cases. Therefore, I will mainly focus on these part of countries.\n",
    "\n",
    "Secondly, as can be viewed, the largest part of the entities' status is covered by the status, 'Active', 'Defaulted', 'Dead', 'Dissolved', 'Struck/Defunct/Deregistered' and 'Changed agent'. Therefore, the focus will only be on these status."
   ]
  },
  {
   "cell_type": "markdown",
   "metadata": {},
   "source": [
    "# Research"
   ]
  },
  {
   "cell_type": "code",
   "execution_count": 175,
   "metadata": {},
   "outputs": [],
   "source": [
    "import numpy as np \n",
    "import pandas as pd \n",
    "from subprocess import check_output\n",
    "import matplotlib.pyplot as plt\n",
    "%matplotlib inline"
   ]
  },
  {
   "cell_type": "markdown",
   "metadata": {},
   "source": [
    "In the first place, I imported the relevant packages.\n",
    "\n",
    "Besides, I import the file I will use in this research."
   ]
  },
  {
   "cell_type": "code",
   "execution_count": 177,
   "metadata": {},
   "outputs": [
    {
     "name": "stderr",
     "output_type": "stream",
     "text": [
      "C:\\Users\\sande\\Documents\\fggsgg\\lib\\site-packages\\IPython\\core\\interactiveshell.py:2717: DtypeWarning: Columns (1,2,5,6,9,10,11,12,13,15,16,17) have mixed types. Specify dtype option on import or set low_memory=False.\n",
      "  interactivity=interactivity, compiler=compiler, result=result)\n"
     ]
    }
   ],
   "source": [
    "entities = pd.read_csv('C:/Users/sande/Downloads/paradisepanamapapers/Entities.csv')"
   ]
  },
  {
   "cell_type": "code",
   "execution_count": 183,
   "metadata": {},
   "outputs": [
    {
     "data": {
      "text/html": [
       "<div>\n",
       "<style>\n",
       "    .dataframe thead tr:only-child th {\n",
       "        text-align: right;\n",
       "    }\n",
       "\n",
       "    .dataframe thead th {\n",
       "        text-align: left;\n",
       "    }\n",
       "\n",
       "    .dataframe tbody tr th {\n",
       "        vertical-align: top;\n",
       "    }\n",
       "</style>\n",
       "<table border=\"1\" class=\"dataframe\">\n",
       "  <thead>\n",
       "    <tr style=\"text-align: right;\">\n",
       "      <th></th>\n",
       "      <th>name</th>\n",
       "      <th>original_name</th>\n",
       "      <th>former_name</th>\n",
       "      <th>jurisdiction</th>\n",
       "      <th>jurisdiction_description</th>\n",
       "      <th>company_type</th>\n",
       "      <th>address</th>\n",
       "      <th>internal_id</th>\n",
       "      <th>incorporation_date</th>\n",
       "      <th>inactivation_date</th>\n",
       "      <th>...</th>\n",
       "      <th>dorm_date</th>\n",
       "      <th>status</th>\n",
       "      <th>service_provider</th>\n",
       "      <th>ibcRUC</th>\n",
       "      <th>country_codes</th>\n",
       "      <th>countries</th>\n",
       "      <th>note</th>\n",
       "      <th>valid_until</th>\n",
       "      <th>node_id</th>\n",
       "      <th>sourceID</th>\n",
       "    </tr>\n",
       "  </thead>\n",
       "  <tbody>\n",
       "    <tr>\n",
       "      <th>0</th>\n",
       "      <td>TIANSHENG INDUSTRY AND TRADING CO., LTD.</td>\n",
       "      <td>TIANSHENG INDUSTRY AND TRADING CO., LTD.</td>\n",
       "      <td>NaN</td>\n",
       "      <td>SAM</td>\n",
       "      <td>Samoa</td>\n",
       "      <td>NaN</td>\n",
       "      <td>ORION HOUSE SERVICES (HK) LIMITED ROOM 1401; 1...</td>\n",
       "      <td>1001256.0</td>\n",
       "      <td>23-MAR-2006</td>\n",
       "      <td>18-FEB-2013</td>\n",
       "      <td>...</td>\n",
       "      <td>NaN</td>\n",
       "      <td>Defaulted</td>\n",
       "      <td>Mossack Fonseca</td>\n",
       "      <td>25221</td>\n",
       "      <td>HKG</td>\n",
       "      <td>Hong Kong</td>\n",
       "      <td>NaN</td>\n",
       "      <td>The Panama Papers data is current through 2015</td>\n",
       "      <td>10000001</td>\n",
       "      <td>Panama Papers</td>\n",
       "    </tr>\n",
       "    <tr>\n",
       "      <th>1</th>\n",
       "      <td>NINGBO SUNRISE ENTERPRISES UNITED CO., LTD.</td>\n",
       "      <td>NINGBO SUNRISE ENTERPRISES UNITED CO., LTD.</td>\n",
       "      <td>NaN</td>\n",
       "      <td>SAM</td>\n",
       "      <td>Samoa</td>\n",
       "      <td>NaN</td>\n",
       "      <td>ORION HOUSE SERVICES (HK) LIMITED ROOM 1401; 1...</td>\n",
       "      <td>1001263.0</td>\n",
       "      <td>27-MAR-2006</td>\n",
       "      <td>27-FEB-2014</td>\n",
       "      <td>...</td>\n",
       "      <td>NaN</td>\n",
       "      <td>Defaulted</td>\n",
       "      <td>Mossack Fonseca</td>\n",
       "      <td>25249</td>\n",
       "      <td>HKG</td>\n",
       "      <td>Hong Kong</td>\n",
       "      <td>NaN</td>\n",
       "      <td>The Panama Papers data is current through 2015</td>\n",
       "      <td>10000002</td>\n",
       "      <td>Panama Papers</td>\n",
       "    </tr>\n",
       "    <tr>\n",
       "      <th>2</th>\n",
       "      <td>HOTFOCUS CO., LTD.</td>\n",
       "      <td>HOTFOCUS CO., LTD.</td>\n",
       "      <td>NaN</td>\n",
       "      <td>SAM</td>\n",
       "      <td>Samoa</td>\n",
       "      <td>NaN</td>\n",
       "      <td>ORION HOUSE SERVICES (HK) LIMITED ROOM 1401; 1...</td>\n",
       "      <td>1000896.0</td>\n",
       "      <td>10-JAN-2006</td>\n",
       "      <td>15-FEB-2012</td>\n",
       "      <td>...</td>\n",
       "      <td>NaN</td>\n",
       "      <td>Defaulted</td>\n",
       "      <td>Mossack Fonseca</td>\n",
       "      <td>24138</td>\n",
       "      <td>HKG</td>\n",
       "      <td>Hong Kong</td>\n",
       "      <td>NaN</td>\n",
       "      <td>The Panama Papers data is current through 2015</td>\n",
       "      <td>10000003</td>\n",
       "      <td>Panama Papers</td>\n",
       "    </tr>\n",
       "    <tr>\n",
       "      <th>3</th>\n",
       "      <td>SKY-BLUE GIFTS &amp; TOYS CO., LTD.</td>\n",
       "      <td>SKY-BLUE GIFTS &amp; TOYS CO., LTD.</td>\n",
       "      <td>NaN</td>\n",
       "      <td>SAM</td>\n",
       "      <td>Samoa</td>\n",
       "      <td>NaN</td>\n",
       "      <td>ORION HOUSE SERVICES (HK) LIMITED ROOM 1401; 1...</td>\n",
       "      <td>1000914.0</td>\n",
       "      <td>06-JAN-2006</td>\n",
       "      <td>16-FEB-2009</td>\n",
       "      <td>...</td>\n",
       "      <td>NaN</td>\n",
       "      <td>Defaulted</td>\n",
       "      <td>Mossack Fonseca</td>\n",
       "      <td>24012</td>\n",
       "      <td>HKG</td>\n",
       "      <td>Hong Kong</td>\n",
       "      <td>NaN</td>\n",
       "      <td>The Panama Papers data is current through 2015</td>\n",
       "      <td>10000004</td>\n",
       "      <td>Panama Papers</td>\n",
       "    </tr>\n",
       "    <tr>\n",
       "      <th>4</th>\n",
       "      <td>FORTUNEMAKER INVESTMENTS CORPORATION</td>\n",
       "      <td>FORTUNEMAKER INVESTMENTS CORPORATION</td>\n",
       "      <td>NaN</td>\n",
       "      <td>SAM</td>\n",
       "      <td>Samoa</td>\n",
       "      <td>NaN</td>\n",
       "      <td>LOYAL PORT LIMITED 8/F; CRAWFORD TOWER 99 JERV...</td>\n",
       "      <td>1001266.0</td>\n",
       "      <td>19-APR-2006</td>\n",
       "      <td>15-MAY-2009</td>\n",
       "      <td>...</td>\n",
       "      <td>NaN</td>\n",
       "      <td>Changed agent</td>\n",
       "      <td>Mossack Fonseca</td>\n",
       "      <td>R25638</td>\n",
       "      <td>HKG</td>\n",
       "      <td>Hong Kong</td>\n",
       "      <td>NaN</td>\n",
       "      <td>The Panama Papers data is current through 2015</td>\n",
       "      <td>10000005</td>\n",
       "      <td>Panama Papers</td>\n",
       "    </tr>\n",
       "  </tbody>\n",
       "</table>\n",
       "<p>5 rows × 21 columns</p>\n",
       "</div>"
      ],
      "text/plain": [
       "                                          name  \\\n",
       "0     TIANSHENG INDUSTRY AND TRADING CO., LTD.   \n",
       "1  NINGBO SUNRISE ENTERPRISES UNITED CO., LTD.   \n",
       "2                           HOTFOCUS CO., LTD.   \n",
       "3              SKY-BLUE GIFTS & TOYS CO., LTD.   \n",
       "4         FORTUNEMAKER INVESTMENTS CORPORATION   \n",
       "\n",
       "                                 original_name former_name jurisdiction  \\\n",
       "0     TIANSHENG INDUSTRY AND TRADING CO., LTD.         NaN          SAM   \n",
       "1  NINGBO SUNRISE ENTERPRISES UNITED CO., LTD.         NaN          SAM   \n",
       "2                           HOTFOCUS CO., LTD.         NaN          SAM   \n",
       "3              SKY-BLUE GIFTS & TOYS CO., LTD.         NaN          SAM   \n",
       "4         FORTUNEMAKER INVESTMENTS CORPORATION         NaN          SAM   \n",
       "\n",
       "  jurisdiction_description company_type  \\\n",
       "0                    Samoa          NaN   \n",
       "1                    Samoa          NaN   \n",
       "2                    Samoa          NaN   \n",
       "3                    Samoa          NaN   \n",
       "4                    Samoa          NaN   \n",
       "\n",
       "                                             address  internal_id  \\\n",
       "0  ORION HOUSE SERVICES (HK) LIMITED ROOM 1401; 1...    1001256.0   \n",
       "1  ORION HOUSE SERVICES (HK) LIMITED ROOM 1401; 1...    1001263.0   \n",
       "2  ORION HOUSE SERVICES (HK) LIMITED ROOM 1401; 1...    1000896.0   \n",
       "3  ORION HOUSE SERVICES (HK) LIMITED ROOM 1401; 1...    1000914.0   \n",
       "4  LOYAL PORT LIMITED 8/F; CRAWFORD TOWER 99 JERV...    1001266.0   \n",
       "\n",
       "  incorporation_date inactivation_date      ...       dorm_date  \\\n",
       "0        23-MAR-2006       18-FEB-2013      ...             NaN   \n",
       "1        27-MAR-2006       27-FEB-2014      ...             NaN   \n",
       "2        10-JAN-2006       15-FEB-2012      ...             NaN   \n",
       "3        06-JAN-2006       16-FEB-2009      ...             NaN   \n",
       "4        19-APR-2006       15-MAY-2009      ...             NaN   \n",
       "\n",
       "          status service_provider  ibcRUC country_codes  countries note  \\\n",
       "0      Defaulted  Mossack Fonseca   25221           HKG  Hong Kong  NaN   \n",
       "1      Defaulted  Mossack Fonseca   25249           HKG  Hong Kong  NaN   \n",
       "2      Defaulted  Mossack Fonseca   24138           HKG  Hong Kong  NaN   \n",
       "3      Defaulted  Mossack Fonseca   24012           HKG  Hong Kong  NaN   \n",
       "4  Changed agent  Mossack Fonseca  R25638           HKG  Hong Kong  NaN   \n",
       "\n",
       "                                      valid_until   node_id       sourceID  \n",
       "0  The Panama Papers data is current through 2015  10000001  Panama Papers  \n",
       "1  The Panama Papers data is current through 2015  10000002  Panama Papers  \n",
       "2  The Panama Papers data is current through 2015  10000003  Panama Papers  \n",
       "3  The Panama Papers data is current through 2015  10000004  Panama Papers  \n",
       "4  The Panama Papers data is current through 2015  10000005  Panama Papers  \n",
       "\n",
       "[5 rows x 21 columns]"
      ]
     },
     "execution_count": 183,
     "metadata": {},
     "output_type": "execute_result"
    }
   ],
   "source": [
    "entities.head(5)"
   ]
  },
  {
   "cell_type": "markdown",
   "metadata": {},
   "source": [
    "To give you some idea of the dataset, I showed you the first five entities together with the characteristics of these entities. For each individual entity, things like name, adress, jurisdiction, inactivation date, country and so on are mentioned.   \n",
    "\n",
    "These data gave us a great insight in the charactaristics of the companies mentioned in the Papers. Below, the number of entities for each country are presented."
   ]
  },
  {
   "cell_type": "code",
   "execution_count": 188,
   "metadata": {
    "collapsed": true
   },
   "outputs": [],
   "source": [
    "Country = entities['countries'].value_counts()"
   ]
  },
  {
   "cell_type": "code",
   "execution_count": 189,
   "metadata": {},
   "outputs": [
    {
     "data": {
      "text/plain": [
       "Hong Kong                                38844\n",
       "Switzerland                              37917\n",
       "British Virgin Islands                   37277\n",
       "Panama                                   15824\n",
       "Jersey                                   14333\n",
       "Not identified                           11180\n",
       "Luxembourg                               10840\n",
       "United Kingdom                            9631\n",
       "Samoa                                     8637\n",
       "Guernsey                                  7329\n",
       "United Arab Emirates                      7277\n",
       "Bahamas                                   5011\n",
       "Uruguay                                   4906\n",
       "Isle of Man                               4892\n",
       "Singapore                                 4799\n",
       "Russia                                    4211\n",
       "Cyprus                                    3622\n",
       "British Virgin Islands;Hong Kong          3614\n",
       "Hong Kong;British Virgin Islands          3609\n",
       "China                                     3215\n",
       "Monaco                                    3168\n",
       "United States                             3086\n",
       "British Virgin Islands;United Kingdom     3037\n",
       "British Virgin Islands;Russia             2994\n",
       "United Kingdom;British Virgin Islands     2780\n",
       "Russia;British Virgin Islands             2747\n",
       "Taiwan                                    2727\n",
       "Hong Kong;Not identified                  2476\n",
       "Not identified;Hong Kong                  2408\n",
       "Liechtenstein                             2069\n",
       "Name: countries, dtype: int64"
      ]
     },
     "execution_count": 189,
     "metadata": {},
     "output_type": "execute_result"
    }
   ],
   "source": [
    "Country[:30]"
   ]
  },
  {
   "cell_type": "code",
   "execution_count": 187,
   "metadata": {},
   "outputs": [
    {
     "data": {
      "text/plain": [
       "<matplotlib.axes._subplots.AxesSubplot at 0x1578a3bccc0>"
      ]
     },
     "execution_count": 187,
     "metadata": {},
     "output_type": "execute_result"
    },
    {
     "data": {
      "image/png": "[encoded data removed]",
      "text/plain": [
       "<matplotlib.figure.Figure at 0x157829cb550>"
      ]
     },
     "metadata": {},
     "output_type": "display_data"
    }
   ],
   "source": [
    "Country[:40].plot(kind='bar')"
   ]
  },
  {
   "cell_type": "code",
   "execution_count": 122,
   "metadata": {},
   "outputs": [
    {
     "data": {
      "text/plain": [
       "<matplotlib.axes._subplots.AxesSubplot at 0x157e8f157b8>"
      ]
     },
     "execution_count": 122,
     "metadata": {},
     "output_type": "execute_result"
    },
    {
     "data": {
      "image/png": "[encoded data removed]",
      "text/plain": [
       "<matplotlib.figure.Figure at 0x157e9388a90>"
      ]
     },
     "metadata": {},
     "output_type": "display_data"
    }
   ],
   "source": [
    "Country[:30].plot(kind='bar')"
   ]
  },
  {
   "cell_type": "code",
   "execution_count": 60,
   "metadata": {},
   "outputs": [
    {
     "data": {
      "text/plain": [
       "<matplotlib.axes._subplots.AxesSubplot at 0x157dd7c9cc0>"
      ]
     },
     "execution_count": 60,
     "metadata": {},
     "output_type": "execute_result"
    },
    {
     "data": {
      "image/png": "[encoded data removed]",
      "text/plain": [
       "<matplotlib.figure.Figure at 0x157dd7c9550>"
      ]
     },
     "metadata": {},
     "output_type": "display_data"
    }
   ],
   "source": []
  },
  {
   "cell_type": "code",
   "execution_count": 80,
   "metadata": {},
   "outputs": [
    {
     "data": {
      "text/plain": [
       "<matplotlib.axes._subplots.AxesSubplot at 0x157e8f37390>"
      ]
     },
     "execution_count": 80,
     "metadata": {},
     "output_type": "execute_result"
    },
    {
     "data": {
      "image/png": "[encoded data removed]",
      "text/plain": [
       "<matplotlib.figure.Figure at 0x157e8f8f2b0>"
      ]
     },
     "metadata": {},
     "output_type": "display_data"
    }
   ],
   "source": [
    "import seaborn as sns\n",
    "plt.style.use(\"fivethirtyeight\")\n",
    "incorporation_dates = pd.to_datetime(entities.incorporation_date)\n",
    "\n",
    "entities['countries'].value_counts().head(30).plot.bar(\n",
    "    title='Entities Mentioned by Country', figsize=(12, 6)\n",
    ")\n",
    "\n"
   ]
  },
  {
   "cell_type": "code",
   "execution_count": 176,
   "metadata": {},
   "outputs": [
    {
     "data": {
      "text/plain": [
       "Active                                   101732\n",
       "Defaulted                                100090\n",
       "Dead                                      23095\n",
       "Dissolved                                 22377\n",
       "Struck / Defunct / Deregistered           19486\n",
       "Changed agent                             16043\n",
       "Inactivated                                7640\n",
       "Resigned as agent                          3174\n",
       "Transferred OUT                            2637\n",
       "Shelf company                              2576\n",
       "Transferred Out                            1807\n",
       "Dissolved shelf company                    1573\n",
       "Bad debt account                           1416\n",
       "Trash company                               878\n",
       "Liquidated                                  826\n",
       "In transition                               776\n",
       "Company liquidated                          742\n",
       "Relocated in new jurisdiction               672\n",
       "Not To Be Renewed / In Deregistration       663\n",
       "Shelf                                       616\n",
       "Discontinued                                423\n",
       "Shelf company not possible to sell          201\n",
       "We resigned as registered agent             160\n",
       "In Formation                                109\n",
       "Un Registered                                91\n",
       "In Liquidation                               87\n",
       "In liquidation                               40\n",
       "Vesting                                      38\n",
       "Discontinuance                               37\n",
       "Redomiciled                                  29\n",
       "Inactive                                     25\n",
       "Change in administration pending             21\n",
       "Liquidation in Progress                      16\n",
       "Sundry Account                                3\n",
       "Resigned as agent of shelf company            3\n",
       "Client Sundry Account                         3\n",
       "Not Renewed by Client                         1\n",
       "Name: status, dtype: int64"
      ]
     },
     "execution_count": 176,
     "metadata": {},
     "output_type": "execute_result"
    }
   ],
   "source": [
    "status = entities['status'].value_counts()\n",
    "status"
   ]
  },
  {
   "cell_type": "code",
   "execution_count": 152,
   "metadata": {},
   "outputs": [],
   "source": [
    "mask1 = entities['status'].str.contains(stat)\n",
    "mask2 = entities['countries'].str.contains(stat_country)\n",
    "\n",
    "stage = entities[mask1 & mask2]"
   ]
  },
  {
   "cell_type": "code",
   "execution_count": 160,
   "metadata": {},
   "outputs": [
    {
     "data": {
      "text/html": [
       "<div>\n",
       "<style>\n",
       "    .dataframe thead tr:only-child th {\n",
       "        text-align: right;\n",
       "    }\n",
       "\n",
       "    .dataframe thead th {\n",
       "        text-align: left;\n",
       "    }\n",
       "\n",
       "    .dataframe tbody tr th {\n",
       "        vertical-align: top;\n",
       "    }\n",
       "</style>\n",
       "<table border=\"1\" class=\"dataframe\">\n",
       "  <thead>\n",
       "    <tr style=\"text-align: right;\">\n",
       "      <th></th>\n",
       "      <th>name</th>\n",
       "      <th>original_name</th>\n",
       "      <th>former_name</th>\n",
       "      <th>jurisdiction</th>\n",
       "      <th>jurisdiction_description</th>\n",
       "      <th>company_type</th>\n",
       "      <th>address</th>\n",
       "      <th>internal_id</th>\n",
       "      <th>incorporation_date</th>\n",
       "      <th>inactivation_date</th>\n",
       "      <th>...</th>\n",
       "      <th>dorm_date</th>\n",
       "      <th>status</th>\n",
       "      <th>service_provider</th>\n",
       "      <th>ibcRUC</th>\n",
       "      <th>country_codes</th>\n",
       "      <th>countries</th>\n",
       "      <th>note</th>\n",
       "      <th>valid_until</th>\n",
       "      <th>node_id</th>\n",
       "      <th>sourceID</th>\n",
       "    </tr>\n",
       "  </thead>\n",
       "  <tbody>\n",
       "    <tr>\n",
       "      <th>191935</th>\n",
       "      <td>Archway Holdings Limited</td>\n",
       "      <td>NaN</td>\n",
       "      <td>NaN</td>\n",
       "      <td>XXX</td>\n",
       "      <td>Undetermined</td>\n",
       "      <td>NaN</td>\n",
       "      <td>Express Co Registration Pte Ltd 138 Cecil Stre...</td>\n",
       "      <td>NaN</td>\n",
       "      <td>07-MAY-1996</td>\n",
       "      <td>NaN</td>\n",
       "      <td>...</td>\n",
       "      <td>NaN</td>\n",
       "      <td>Dead</td>\n",
       "      <td>Commonwealth Trust Limited</td>\n",
       "      <td>NaN</td>\n",
       "      <td>XXX;SGP</td>\n",
       "      <td>Not identified;Singapore</td>\n",
       "      <td>NaN</td>\n",
       "      <td>The Offshore Leaks data is current through 2010</td>\n",
       "      <td>67171</td>\n",
       "      <td>Offshore Leaks</td>\n",
       "    </tr>\n",
       "    <tr>\n",
       "      <th>191937</th>\n",
       "      <td>LOUVERN LIMITED</td>\n",
       "      <td>NaN</td>\n",
       "      <td>NaN</td>\n",
       "      <td>XXX</td>\n",
       "      <td>Undetermined</td>\n",
       "      <td>Business Company Limited by Shares</td>\n",
       "      <td>PPB Inc. Limited Griva Digeni 87-89 Nikolaou &amp;...</td>\n",
       "      <td>NaN</td>\n",
       "      <td>13-SEP-2007</td>\n",
       "      <td>NaN</td>\n",
       "      <td>...</td>\n",
       "      <td>01-MAY-2009</td>\n",
       "      <td>Dead</td>\n",
       "      <td>Commonwealth Trust Limited</td>\n",
       "      <td>1431303</td>\n",
       "      <td>CYP;VGB</td>\n",
       "      <td>Cyprus;British Virgin Islands</td>\n",
       "      <td>NaN</td>\n",
       "      <td>The Offshore Leaks data is current through 2010</td>\n",
       "      <td>67227</td>\n",
       "      <td>Offshore Leaks</td>\n",
       "    </tr>\n",
       "    <tr>\n",
       "      <th>191938</th>\n",
       "      <td>Pacific Financial Limited</td>\n",
       "      <td>NaN</td>\n",
       "      <td>NaN</td>\n",
       "      <td>XXX</td>\n",
       "      <td>Undetermined</td>\n",
       "      <td>NaN</td>\n",
       "      <td>Diane S. Arnold c/o Corporate Breakthroughs 32...</td>\n",
       "      <td>NaN</td>\n",
       "      <td>03-JAN-1996</td>\n",
       "      <td>NaN</td>\n",
       "      <td>...</td>\n",
       "      <td>NaN</td>\n",
       "      <td>Dead</td>\n",
       "      <td>Commonwealth Trust Limited</td>\n",
       "      <td>NaN</td>\n",
       "      <td>XXX;USA</td>\n",
       "      <td>Not identified;United States</td>\n",
       "      <td>NaN</td>\n",
       "      <td>The Offshore Leaks data is current through 2010</td>\n",
       "      <td>67232</td>\n",
       "      <td>Offshore Leaks</td>\n",
       "    </tr>\n",
       "  </tbody>\n",
       "</table>\n",
       "<p>3 rows × 21 columns</p>\n",
       "</div>"
      ],
      "text/plain": [
       "                             name original_name former_name jurisdiction  \\\n",
       "191935   Archway Holdings Limited           NaN         NaN          XXX   \n",
       "191937            LOUVERN LIMITED           NaN         NaN          XXX   \n",
       "191938  Pacific Financial Limited           NaN         NaN          XXX   \n",
       "\n",
       "       jurisdiction_description                        company_type  \\\n",
       "191935             Undetermined                                 NaN   \n",
       "191937             Undetermined  Business Company Limited by Shares   \n",
       "191938             Undetermined                                 NaN   \n",
       "\n",
       "                                                  address  internal_id  \\\n",
       "191935  Express Co Registration Pte Ltd 138 Cecil Stre...          NaN   \n",
       "191937  PPB Inc. Limited Griva Digeni 87-89 Nikolaou &...          NaN   \n",
       "191938  Diane S. Arnold c/o Corporate Breakthroughs 32...          NaN   \n",
       "\n",
       "       incorporation_date inactivation_date       ...          dorm_date  \\\n",
       "191935        07-MAY-1996               NaN       ...                NaN   \n",
       "191937        13-SEP-2007               NaN       ...        01-MAY-2009   \n",
       "191938        03-JAN-1996               NaN       ...                NaN   \n",
       "\n",
       "       status            service_provider   ibcRUC country_codes  \\\n",
       "191935   Dead  Commonwealth Trust Limited      NaN       XXX;SGP   \n",
       "191937   Dead  Commonwealth Trust Limited  1431303       CYP;VGB   \n",
       "191938   Dead  Commonwealth Trust Limited      NaN       XXX;USA   \n",
       "\n",
       "                            countries note  \\\n",
       "191935       Not identified;Singapore  NaN   \n",
       "191937  Cyprus;British Virgin Islands  NaN   \n",
       "191938   Not identified;United States  NaN   \n",
       "\n",
       "                                            valid_until node_id  \\\n",
       "191935  The Offshore Leaks data is current through 2010   67171   \n",
       "191937  The Offshore Leaks data is current through 2010   67227   \n",
       "191938  The Offshore Leaks data is current through 2010   67232   \n",
       "\n",
       "              sourceID  \n",
       "191935  Offshore Leaks  \n",
       "191937  Offshore Leaks  \n",
       "191938  Offshore Leaks  \n",
       "\n",
       "[3 rows x 21 columns]"
      ]
     },
     "execution_count": 160,
     "metadata": {},
     "output_type": "execute_result"
    }
   ],
   "source": [
    "status_filtered = entities[entities['status'] == 'Dead']\n",
    "status_filtered.head(3)"
   ]
  },
  {
   "cell_type": "code",
   "execution_count": 161,
   "metadata": {},
   "outputs": [],
   "source": [
    "B = status_filtered['countries'].value_counts()"
   ]
  },
  {
   "cell_type": "code",
   "execution_count": 162,
   "metadata": {},
   "outputs": [
    {
     "data": {
      "text/plain": [
       "Hong Kong;Not identified                 2271\n",
       "Not identified;Hong Kong                 2234\n",
       "British Virgin Islands;United Kingdom    1320\n",
       "United Kingdom;British Virgin Islands    1212\n",
       "Not identified;United Kingdom            1174\n",
       "British Virgin Islands;Russia            1159\n",
       "United Kingdom;Not identified            1158\n",
       "British Virgin Islands;Hong Kong         1154\n",
       "Hong Kong;British Virgin Islands         1101\n",
       "Russia;British Virgin Islands            1007\n",
       "Name: countries, dtype: int64"
      ]
     },
     "execution_count": 162,
     "metadata": {},
     "output_type": "execute_result"
    }
   ],
   "source": [
    "B[:10]"
   ]
  },
  {
   "cell_type": "code",
   "execution_count": 174,
   "metadata": {},
   "outputs": [
    {
     "data": {
      "text/plain": [
       "Active                                   101732\n",
       "Defaulted                                100090\n",
       "Dead                                      23095\n",
       "Dissolved                                 22377\n",
       "Struck / Defunct / Deregistered           19486\n",
       "Changed agent                             16043\n",
       "Inactivated                                7640\n",
       "Resigned as agent                          3174\n",
       "Transferred OUT                            2637\n",
       "Shelf company                              2576\n",
       "Transferred Out                            1807\n",
       "Dissolved shelf company                    1573\n",
       "Bad debt account                           1416\n",
       "Trash company                               878\n",
       "Liquidated                                  826\n",
       "In transition                               776\n",
       "Company liquidated                          742\n",
       "Relocated in new jurisdiction               672\n",
       "Not To Be Renewed / In Deregistration       663\n",
       "Shelf                                       616\n",
       "Discontinued                                423\n",
       "Shelf company not possible to sell          201\n",
       "We resigned as registered agent             160\n",
       "In Formation                                109\n",
       "Un Registered                                91\n",
       "In Liquidation                               87\n",
       "In liquidation                               40\n",
       "Vesting                                      38\n",
       "Discontinuance                               37\n",
       "Redomiciled                                  29\n",
       "Inactive                                     25\n",
       "Change in administration pending             21\n",
       "Liquidation in Progress                      16\n",
       "Sundry Account                                3\n",
       "Resigned as agent of shelf company            3\n",
       "Client Sundry Account                         3\n",
       "Not Renewed by Client                         1\n",
       "Name: status, dtype: int64"
      ]
     },
     "execution_count": 174,
     "metadata": {},
     "output_type": "execute_result"
    }
   ],
   "source": [
    "status = entities['status'].value_counts()\n",
    "status\n"
   ]
  },
  {
   "cell_type": "code",
   "execution_count": null,
   "metadata": {
    "collapsed": true
   },
   "outputs": [],
   "source": []
  },
  {
   "cell_type": "markdown",
   "metadata": {},
   "source": [
    "# Results"
   ]
  },
  {
   "cell_type": "code",
   "execution_count": null,
   "metadata": {
    "collapsed": true
   },
   "outputs": [],
   "source": []
  },
  {
   "cell_type": "code",
   "execution_count": null,
   "metadata": {},
   "outputs": [],
   "source": []
  },
  {
   "cell_type": "markdown",
   "metadata": {},
   "source": [
    "# Conclusion"
   ]
  },
  {
   "cell_type": "code",
   "execution_count": null,
   "metadata": {
    "collapsed": true
   },
   "outputs": [],
   "source": []
  },
  {
   "cell_type": "markdown",
   "metadata": {},
   "source": [
    "# Discussion\n"
   ]
  },
  {
   "cell_type": "code",
   "execution_count": null,
   "metadata": {},
   "outputs": [],
   "source": []
  }
 ],
 "metadata": {
  "celltoolbar": "Edit Metadata",
  "kernelspec": {
   "display_name": "Python 3",
   "language": "python",
   "name": "python3"
  },
  "language_info": {
   "codemirror_mode": {
    "name": "ipython",
    "version": 3
   },
   "file_extension": ".py",
   "mimetype": "text/x-python",
   "name": "python",
   "nbconvert_exporter": "python",
   "pygments_lexer": "ipython3",
   "version": "3.6.1"
  }
 },
 "nbformat": 4,
 "nbformat_minor": 2
}
